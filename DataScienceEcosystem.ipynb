{
  "nbformat": 4,
  "nbformat_minor": 0,
  "metadata": {
    "colab": {
      "provenance": [],
      "authorship_tag": "ABX9TyOWqtR35Cw/tH46y11UnbSr",
      "include_colab_link": true
    },
    "kernelspec": {
      "name": "python3",
      "display_name": "Python 3"
    },
    "language_info": {
      "name": "python"
    }
  },
  "cells": [
    {
      "cell_type": "markdown",
      "metadata": {
        "id": "view-in-github",
        "colab_type": "text"
      },
      "source": [
        "<a href=\"https://colab.research.google.com/github/linh011202/tools-for-data-science-/blob/main/DataScienceEcosystem.ipynb\" target=\"_parent\"><img src=\"https://colab.research.google.com/assets/colab-badge.svg\" alt=\"Open In Colab\"/></a>"
      ]
    },
    {
      "cell_type": "markdown",
      "source": [],
      "metadata": {
        "id": "5yfGr-wFfBo9"
      }
    },
    {
      "cell_type": "markdown",
      "source": [
        "\n",
        "ex2:\n",
        "#Data Science Tools and Ecosystem\n",
        "ex3:\n",
        "##In this notebook, Data Science Tools and Ecosystem are summarized.\n",
        "ex4:\n",
        "####Some of the popular languages that Data Scientists use are:\n",
        "\n",
        "*   R\n",
        "*   Python \n",
        "*   Julia \n",
        "\n",
        "ex5:\n",
        "####Some of the commonly used libraries used by Data Scientists include:\n",
        "\n",
        "*   TensorFlow.\n",
        "*   NumPy.\n",
        "*   SciPy.\n",
        "*   Pandas.\n",
        "\n",
        "\n",
        "\n",
        "\n",
        "\n",
        "\n",
        "\n",
        "\n",
        "\n",
        "\n",
        "\n",
        "\n",
        "\n",
        "\n",
        "\n",
        "\n",
        "\n",
        "\n",
        "\n",
        "\n",
        "\n"
      ],
      "metadata": {
        "id": "VQAjcH9VjRiU"
      }
    },
    {
      "cell_type": "markdown",
      "source": [
        "ex5: \n",
        "###In this notebook, Data Science Tools and Ecosystem are summarized.\n",
        "\n",
        "\n",
        "\n",
        "\n"
      ],
      "metadata": {
        "id": "aCifjQxAgOy8"
      }
    },
    {
      "cell_type": "markdown",
      "source": [
        "ex10:\n",
        "**Objectives**:\n",
        "List popular languages for Data Science:\n",
        "\n",
        "\n",
        "*   R\n",
        "*   Python \n",
        "*   Julia \n",
        "\n",
        "\n",
        "ex11:\n",
        "##Author##\n",
        "Nguyen Phuong Linh \n",
        "\n",
        "\n",
        "\n",
        "\n",
        "\n",
        "\n",
        "\n",
        "\n",
        "\n",
        "\n",
        "\n",
        "\n"
      ],
      "metadata": {
        "id": "ADfX1iLu7vm-"
      }
    },
    {
      "cell_type": "markdown",
      "source": [
        "ex6:\n",
        "\n",
        "\n",
        "| Data Science Tools  | \n",
        "| ----------- | \n",
        "| RStudio | \n",
        "| Apache Spark  | \n",
        "| TensorFlow |\n",
        "\n",
        "\n",
        "\n",
        "\n",
        "\n"
      ],
      "metadata": {
        "id": "A1J4MmQUzAEK"
      }
    },
    {
      "cell_type": "markdown",
      "source": [],
      "metadata": {
        "id": "8GKJ4U5-B46o"
      }
    },
    {
      "cell_type": "markdown",
      "source": [],
      "metadata": {
        "id": "KidgAeJsB5Ap"
      }
    },
    {
      "cell_type": "markdown",
      "source": [],
      "metadata": {
        "id": "qAwKLTkxB5L2"
      }
    },
    {
      "cell_type": "markdown",
      "source": [
        "Ex 7 and ex 8: \n",
        "### Below are a few examples of evaluating arithmetic expressions in Python\n"
      ],
      "metadata": {
        "id": "1pcwTOxSh1qR"
      }
    },
    {
      "cell_type": "code",
      "source": [
        "#This a simple arithmetic expression to mutiply then add integers\n",
        " \n",
        "(3*4)+5"
      ],
      "metadata": {
        "colab": {
          "base_uri": "https://localhost:8080/"
        },
        "id": "WEoq1wXKh0Um",
        "outputId": "69016ae2-bcfd-4bb1-aaaf-ecbb3eb405b6"
      },
      "execution_count": 10,
      "outputs": [
        {
          "output_type": "execute_result",
          "data": {
            "text/plain": [
              "17"
            ]
          },
          "metadata": {},
          "execution_count": 10
        }
      ]
    },
    {
      "cell_type": "code",
      "source": [
        "#This will convert 200 minutes to hours by diving by 60.\n",
        "200/60 "
      ],
      "metadata": {
        "colab": {
          "base_uri": "https://localhost:8080/"
        },
        "id": "6Wr0eJMshtgP",
        "outputId": "04f12645-8245-48f3-d60f-5e90fd0a3d44"
      },
      "execution_count": 9,
      "outputs": [
        {
          "output_type": "execute_result",
          "data": {
            "text/plain": [
              "3.3333333333333335"
            ]
          },
          "metadata": {},
          "execution_count": 9
        }
      ]
    },
    {
      "cell_type": "code",
      "source": [],
      "metadata": {
        "id": "ynJMjEPXhgTm"
      },
      "execution_count": null,
      "outputs": []
    },
    {
      "cell_type": "code",
      "source": [],
      "metadata": {
        "id": "cX301XHKheTP"
      },
      "execution_count": null,
      "outputs": []
    },
    {
      "cell_type": "code",
      "source": [],
      "metadata": {
        "id": "UU8fFgKigbTC"
      },
      "execution_count": null,
      "outputs": []
    },
    {
      "cell_type": "code",
      "execution_count": null,
      "metadata": {
        "id": "rffYt-KWgRDk"
      },
      "outputs": [],
      "source": []
    },
    {
      "cell_type": "code",
      "execution_count": null,
      "metadata": {
        "id": "N-LWj-4LeU0P"
      },
      "outputs": [],
      "source": []
    }
  ]
}